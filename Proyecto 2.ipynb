{
 "cells": [
  {
   "cell_type": "markdown",
   "metadata": {},
   "source": [
    "## 1 Importar liberias"
   ]
  },
  {
   "cell_type": "code",
   "execution_count": 6,
   "metadata": {},
   "outputs": [],
   "source": [
    "import bs4 as bs \n",
    "import requests\n",
    "import yfinance as yf\n",
    "import datetime\n",
    "import pandas as pd\n",
    "import numpy as np\n",
    "import html5lib as html5lib"
   ]
  },
  {
   "cell_type": "markdown",
   "metadata": {},
   "source": [
    "## 2 Carga de Tablas "
   ]
  },
  {
   "cell_type": "markdown",
   "metadata": {},
   "source": [
    "FORMA 1"
   ]
  },
  {
   "cell_type": "code",
   "execution_count": 15,
   "metadata": {},
   "outputs": [],
   "source": [
    "response = requests.get('https://en.wikipedia.org/wiki/List_of_S%26P_500_companies#S&P_500_component_stocks')\n",
    "soup = bs.BeautifulSoup(response.text, \"lxml\")\n",
    "Tabla = soup.find('table', {'class': 'wikitable sortable'})\n",
    "tickers = []\n",
    "for row in Tabla.findAll('tr')[1:]:\n",
    "    ticker = row.findAll('td')[0].text\n",
    "    tickers.append(ticker) #ty"
   ]
  },
  {
   "cell_type": "code",
   "execution_count": null,
   "metadata": {},
   "outputs": [],
   "source": [
    "tickers = [s.replace('\\n', '') for s in tickers]\n",
    "start = datetime.datetime(2000,1,1)\n",
    "end = datetime.datetime(2021,12,31)\n",
    "df_list = list()\n",
    "for ticker in tickers:\n",
    "    data = yf.download(ticker, group_by=\"Ticker\", start=start, end=end)\n",
    "    data['ticker'] = ticker  # add this column because the dataframe doesn't contain a column with the ticker\n",
    "    df_list.append(data)\n",
    "    sp500 = pd.concat(df_list)"
   ]
  },
  {
   "cell_type": "code",
   "execution_count": 17,
   "metadata": {},
   "outputs": [],
   "source": [
    "sp500.to_csv('sp500.csv', decimal=',',sep=';')\n"
   ]
  },
  {
   "cell_type": "code",
   "execution_count": 18,
   "metadata": {},
   "outputs": [],
   "source": [
    "SP500 = pd.read_csv('sp500.csv', decimal=',',sep=';')"
   ]
  },
  {
   "cell_type": "markdown",
   "metadata": {},
   "source": [
    "FORMA 2"
   ]
  },
  {
   "cell_type": "code",
   "execution_count": 19,
   "metadata": {},
   "outputs": [],
   "source": [
    "SPWiki = pd.read_html('https://en.wikipedia.org/wiki/List_of_S%26P_500_companies#S&P_500_component_stocks')\n",
    "SPWiki = SPWiki[0]"
   ]
  },
  {
   "cell_type": "code",
   "execution_count": 20,
   "metadata": {},
   "outputs": [],
   "source": [
    "SPWiki.to_csv('SPWiki.csv')"
   ]
  },
  {
   "cell_type": "code",
   "execution_count": 21,
   "metadata": {},
   "outputs": [],
   "source": [
    "SPWiki = pd.read_csv('SPWiki.csv')"
   ]
  },
  {
   "cell_type": "code",
   "execution_count": 22,
   "metadata": {},
   "outputs": [
    {
     "data": {
      "text/html": [
       "<div>\n",
       "<style scoped>\n",
       "    .dataframe tbody tr th:only-of-type {\n",
       "        vertical-align: middle;\n",
       "    }\n",
       "\n",
       "    .dataframe tbody tr th {\n",
       "        vertical-align: top;\n",
       "    }\n",
       "\n",
       "    .dataframe thead th {\n",
       "        text-align: right;\n",
       "    }\n",
       "</style>\n",
       "<table border=\"1\" class=\"dataframe\">\n",
       "  <thead>\n",
       "    <tr style=\"text-align: right;\">\n",
       "      <th></th>\n",
       "      <th>Unnamed: 0</th>\n",
       "      <th>Symbol</th>\n",
       "      <th>Security</th>\n",
       "      <th>SEC filings</th>\n",
       "      <th>GICS Sector</th>\n",
       "      <th>GICS Sub-Industry</th>\n",
       "      <th>Headquarters Location</th>\n",
       "      <th>Date first added</th>\n",
       "      <th>CIK</th>\n",
       "      <th>Founded</th>\n",
       "    </tr>\n",
       "  </thead>\n",
       "  <tbody>\n",
       "    <tr>\n",
       "      <th>0</th>\n",
       "      <td>0</td>\n",
       "      <td>MMM</td>\n",
       "      <td>3M</td>\n",
       "      <td>reports</td>\n",
       "      <td>Industrials</td>\n",
       "      <td>Industrial Conglomerates</td>\n",
       "      <td>Saint Paul, Minnesota</td>\n",
       "      <td>1976-08-09</td>\n",
       "      <td>66740</td>\n",
       "      <td>1902</td>\n",
       "    </tr>\n",
       "    <tr>\n",
       "      <th>1</th>\n",
       "      <td>1</td>\n",
       "      <td>AOS</td>\n",
       "      <td>A. O. Smith</td>\n",
       "      <td>reports</td>\n",
       "      <td>Industrials</td>\n",
       "      <td>Building Products</td>\n",
       "      <td>Milwaukee, Wisconsin</td>\n",
       "      <td>2017-07-26</td>\n",
       "      <td>91142</td>\n",
       "      <td>1916</td>\n",
       "    </tr>\n",
       "    <tr>\n",
       "      <th>2</th>\n",
       "      <td>2</td>\n",
       "      <td>ABT</td>\n",
       "      <td>Abbott</td>\n",
       "      <td>reports</td>\n",
       "      <td>Health Care</td>\n",
       "      <td>Health Care Equipment</td>\n",
       "      <td>North Chicago, Illinois</td>\n",
       "      <td>1964-03-31</td>\n",
       "      <td>1800</td>\n",
       "      <td>1888</td>\n",
       "    </tr>\n",
       "    <tr>\n",
       "      <th>3</th>\n",
       "      <td>3</td>\n",
       "      <td>ABBV</td>\n",
       "      <td>AbbVie</td>\n",
       "      <td>reports</td>\n",
       "      <td>Health Care</td>\n",
       "      <td>Pharmaceuticals</td>\n",
       "      <td>North Chicago, Illinois</td>\n",
       "      <td>2012-12-31</td>\n",
       "      <td>1551152</td>\n",
       "      <td>2013 (1888)</td>\n",
       "    </tr>\n",
       "    <tr>\n",
       "      <th>4</th>\n",
       "      <td>4</td>\n",
       "      <td>ABMD</td>\n",
       "      <td>Abiomed</td>\n",
       "      <td>reports</td>\n",
       "      <td>Health Care</td>\n",
       "      <td>Health Care Equipment</td>\n",
       "      <td>Danvers, Massachusetts</td>\n",
       "      <td>2018-05-31</td>\n",
       "      <td>815094</td>\n",
       "      <td>1981</td>\n",
       "    </tr>\n",
       "  </tbody>\n",
       "</table>\n",
       "</div>"
      ],
      "text/plain": [
       "   Unnamed: 0 Symbol     Security SEC filings  GICS Sector  \\\n",
       "0           0    MMM           3M     reports  Industrials   \n",
       "1           1    AOS  A. O. Smith     reports  Industrials   \n",
       "2           2    ABT       Abbott     reports  Health Care   \n",
       "3           3   ABBV       AbbVie     reports  Health Care   \n",
       "4           4   ABMD      Abiomed     reports  Health Care   \n",
       "\n",
       "          GICS Sub-Industry    Headquarters Location Date first added  \\\n",
       "0  Industrial Conglomerates    Saint Paul, Minnesota       1976-08-09   \n",
       "1         Building Products     Milwaukee, Wisconsin       2017-07-26   \n",
       "2     Health Care Equipment  North Chicago, Illinois       1964-03-31   \n",
       "3           Pharmaceuticals  North Chicago, Illinois       2012-12-31   \n",
       "4     Health Care Equipment   Danvers, Massachusetts       2018-05-31   \n",
       "\n",
       "       CIK      Founded  \n",
       "0    66740         1902  \n",
       "1    91142         1916  \n",
       "2     1800         1888  \n",
       "3  1551152  2013 (1888)  \n",
       "4   815094         1981  "
      ]
     },
     "execution_count": 22,
     "metadata": {},
     "output_type": "execute_result"
    }
   ],
   "source": [
    "SPWiki.head(5)"
   ]
  },
  {
   "cell_type": "markdown",
   "metadata": {},
   "source": [
    "## 3 Orden de Tablas"
   ]
  },
  {
   "cell_type": "code",
   "execution_count": 23,
   "metadata": {},
   "outputs": [],
   "source": [
    "SPWiki.rename(columns={'Symbol':'ticker'}, inplace=True)"
   ]
  },
  {
   "cell_type": "code",
   "execution_count": 24,
   "metadata": {},
   "outputs": [],
   "source": [
    "SPWiki.drop(columns=['Unnamed: 0', 'Security', 'SEC filings','Headquarters Location', 'Date first added', 'CIK', 'Founded'], inplace=True)"
   ]
  },
  {
   "cell_type": "code",
   "execution_count": 25,
   "metadata": {},
   "outputs": [
    {
     "data": {
      "text/html": [
       "<div>\n",
       "<style scoped>\n",
       "    .dataframe tbody tr th:only-of-type {\n",
       "        vertical-align: middle;\n",
       "    }\n",
       "\n",
       "    .dataframe tbody tr th {\n",
       "        vertical-align: top;\n",
       "    }\n",
       "\n",
       "    .dataframe thead th {\n",
       "        text-align: right;\n",
       "    }\n",
       "</style>\n",
       "<table border=\"1\" class=\"dataframe\">\n",
       "  <thead>\n",
       "    <tr style=\"text-align: right;\">\n",
       "      <th></th>\n",
       "      <th>Date</th>\n",
       "      <th>Open</th>\n",
       "      <th>High</th>\n",
       "      <th>Low</th>\n",
       "      <th>Close</th>\n",
       "      <th>Adj Close</th>\n",
       "      <th>Volume</th>\n",
       "      <th>ticker</th>\n",
       "    </tr>\n",
       "  </thead>\n",
       "  <tbody>\n",
       "    <tr>\n",
       "      <th>0</th>\n",
       "      <td>2000-01-03 00:00:00-05:00</td>\n",
       "      <td>48.03125</td>\n",
       "      <td>48.25000</td>\n",
       "      <td>47.03125</td>\n",
       "      <td>47.1875</td>\n",
       "      <td>26.166328</td>\n",
       "      <td>2173400.0</td>\n",
       "      <td>MMM</td>\n",
       "    </tr>\n",
       "    <tr>\n",
       "      <th>1</th>\n",
       "      <td>2000-01-04 00:00:00-05:00</td>\n",
       "      <td>46.43750</td>\n",
       "      <td>47.40625</td>\n",
       "      <td>45.31250</td>\n",
       "      <td>45.3125</td>\n",
       "      <td>25.126608</td>\n",
       "      <td>2713800.0</td>\n",
       "      <td>MMM</td>\n",
       "    </tr>\n",
       "    <tr>\n",
       "      <th>2</th>\n",
       "      <td>2000-01-05 00:00:00-05:00</td>\n",
       "      <td>45.56250</td>\n",
       "      <td>48.12500</td>\n",
       "      <td>45.56250</td>\n",
       "      <td>46.6250</td>\n",
       "      <td>25.854406</td>\n",
       "      <td>3699400.0</td>\n",
       "      <td>MMM</td>\n",
       "    </tr>\n",
       "    <tr>\n",
       "      <th>3</th>\n",
       "      <td>2000-01-06 00:00:00-05:00</td>\n",
       "      <td>47.15625</td>\n",
       "      <td>51.25000</td>\n",
       "      <td>47.15625</td>\n",
       "      <td>50.3750</td>\n",
       "      <td>27.933851</td>\n",
       "      <td>5975800.0</td>\n",
       "      <td>MMM</td>\n",
       "    </tr>\n",
       "    <tr>\n",
       "      <th>4</th>\n",
       "      <td>2000-01-07 00:00:00-05:00</td>\n",
       "      <td>50.56250</td>\n",
       "      <td>51.90625</td>\n",
       "      <td>49.96875</td>\n",
       "      <td>51.3750</td>\n",
       "      <td>28.488367</td>\n",
       "      <td>4101200.0</td>\n",
       "      <td>MMM</td>\n",
       "    </tr>\n",
       "  </tbody>\n",
       "</table>\n",
       "</div>"
      ],
      "text/plain": [
       "                        Date      Open      High       Low    Close  \\\n",
       "0  2000-01-03 00:00:00-05:00  48.03125  48.25000  47.03125  47.1875   \n",
       "1  2000-01-04 00:00:00-05:00  46.43750  47.40625  45.31250  45.3125   \n",
       "2  2000-01-05 00:00:00-05:00  45.56250  48.12500  45.56250  46.6250   \n",
       "3  2000-01-06 00:00:00-05:00  47.15625  51.25000  47.15625  50.3750   \n",
       "4  2000-01-07 00:00:00-05:00  50.56250  51.90625  49.96875  51.3750   \n",
       "\n",
       "   Adj Close     Volume ticker  \n",
       "0  26.166328  2173400.0    MMM  \n",
       "1  25.126608  2713800.0    MMM  \n",
       "2  25.854406  3699400.0    MMM  \n",
       "3  27.933851  5975800.0    MMM  \n",
       "4  28.488367  4101200.0    MMM  "
      ]
     },
     "execution_count": 25,
     "metadata": {},
     "output_type": "execute_result"
    }
   ],
   "source": [
    "SP500.head(5)"
   ]
  },
  {
   "cell_type": "code",
   "execution_count": 26,
   "metadata": {},
   "outputs": [],
   "source": [
    "SP500 = SP500[['ticker','Date','Open','High','Low','Close','Adj Close', 'Volume']]"
   ]
  },
  {
   "cell_type": "code",
   "execution_count": 27,
   "metadata": {},
   "outputs": [
    {
     "data": {
      "text/html": [
       "<div>\n",
       "<style scoped>\n",
       "    .dataframe tbody tr th:only-of-type {\n",
       "        vertical-align: middle;\n",
       "    }\n",
       "\n",
       "    .dataframe tbody tr th {\n",
       "        vertical-align: top;\n",
       "    }\n",
       "\n",
       "    .dataframe thead th {\n",
       "        text-align: right;\n",
       "    }\n",
       "</style>\n",
       "<table border=\"1\" class=\"dataframe\">\n",
       "  <thead>\n",
       "    <tr style=\"text-align: right;\">\n",
       "      <th></th>\n",
       "      <th>ticker</th>\n",
       "      <th>Date</th>\n",
       "      <th>Open</th>\n",
       "      <th>High</th>\n",
       "      <th>Low</th>\n",
       "      <th>Close</th>\n",
       "      <th>Adj Close</th>\n",
       "      <th>Volume</th>\n",
       "    </tr>\n",
       "  </thead>\n",
       "  <tbody>\n",
       "    <tr>\n",
       "      <th>0</th>\n",
       "      <td>MMM</td>\n",
       "      <td>2000-01-03 00:00:00-05:00</td>\n",
       "      <td>48.03125</td>\n",
       "      <td>48.25000</td>\n",
       "      <td>47.03125</td>\n",
       "      <td>47.1875</td>\n",
       "      <td>26.166328</td>\n",
       "      <td>2173400.0</td>\n",
       "    </tr>\n",
       "    <tr>\n",
       "      <th>1</th>\n",
       "      <td>MMM</td>\n",
       "      <td>2000-01-04 00:00:00-05:00</td>\n",
       "      <td>46.43750</td>\n",
       "      <td>47.40625</td>\n",
       "      <td>45.31250</td>\n",
       "      <td>45.3125</td>\n",
       "      <td>25.126608</td>\n",
       "      <td>2713800.0</td>\n",
       "    </tr>\n",
       "    <tr>\n",
       "      <th>2</th>\n",
       "      <td>MMM</td>\n",
       "      <td>2000-01-05 00:00:00-05:00</td>\n",
       "      <td>45.56250</td>\n",
       "      <td>48.12500</td>\n",
       "      <td>45.56250</td>\n",
       "      <td>46.6250</td>\n",
       "      <td>25.854406</td>\n",
       "      <td>3699400.0</td>\n",
       "    </tr>\n",
       "    <tr>\n",
       "      <th>3</th>\n",
       "      <td>MMM</td>\n",
       "      <td>2000-01-06 00:00:00-05:00</td>\n",
       "      <td>47.15625</td>\n",
       "      <td>51.25000</td>\n",
       "      <td>47.15625</td>\n",
       "      <td>50.3750</td>\n",
       "      <td>27.933851</td>\n",
       "      <td>5975800.0</td>\n",
       "    </tr>\n",
       "    <tr>\n",
       "      <th>4</th>\n",
       "      <td>MMM</td>\n",
       "      <td>2000-01-07 00:00:00-05:00</td>\n",
       "      <td>50.56250</td>\n",
       "      <td>51.90625</td>\n",
       "      <td>49.96875</td>\n",
       "      <td>51.3750</td>\n",
       "      <td>28.488367</td>\n",
       "      <td>4101200.0</td>\n",
       "    </tr>\n",
       "  </tbody>\n",
       "</table>\n",
       "</div>"
      ],
      "text/plain": [
       "  ticker                       Date      Open      High       Low    Close  \\\n",
       "0    MMM  2000-01-03 00:00:00-05:00  48.03125  48.25000  47.03125  47.1875   \n",
       "1    MMM  2000-01-04 00:00:00-05:00  46.43750  47.40625  45.31250  45.3125   \n",
       "2    MMM  2000-01-05 00:00:00-05:00  45.56250  48.12500  45.56250  46.6250   \n",
       "3    MMM  2000-01-06 00:00:00-05:00  47.15625  51.25000  47.15625  50.3750   \n",
       "4    MMM  2000-01-07 00:00:00-05:00  50.56250  51.90625  49.96875  51.3750   \n",
       "\n",
       "   Adj Close     Volume  \n",
       "0  26.166328  2173400.0  \n",
       "1  25.126608  2713800.0  \n",
       "2  25.854406  3699400.0  \n",
       "3  27.933851  5975800.0  \n",
       "4  28.488367  4101200.0  "
      ]
     },
     "execution_count": 27,
     "metadata": {},
     "output_type": "execute_result"
    }
   ],
   "source": [
    "SP500.head(5)"
   ]
  },
  {
   "cell_type": "code",
   "execution_count": null,
   "metadata": {},
   "outputs": [],
   "source": [
    "fecha = pd.to_datetime(SP500['Date'])\n",
    "SP500['Dia'] = fecha.dt.day_name()\n",
    "SP500['Mes'] = fecha.dt.month\n",
    "SP500['Año'] = fecha.dt.year"
   ]
  },
  {
   "cell_type": "markdown",
   "metadata": {},
   "source": [
    "## 4 Calculos"
   ]
  },
  {
   "cell_type": "markdown",
   "metadata": {},
   "source": [
    "1 Cual es el mejor día para invertir teniendo en cuenta el retorno de los movimiento gap?"
   ]
  },
  {
   "cell_type": "code",
   "execution_count": 29,
   "metadata": {},
   "outputs": [],
   "source": [
    "SP500['Gaps'] = round((np.log(SP500['Open']/SP500['Close'].shift(1)).fillna(0)),4)\n",
    "SP500['Intradiarios'] = round((np.log(SP500['Close']/SP500['Open']).fillna(0)),4)\n",
    "SP500['Variaciones'] = round((SP500['Adj Close'].pct_change()),4)\n",
    "SP500['Volatilidad'] = round((SP500.Variaciones.rolling(250,min_periods=1).std()*100*(250)**0.5),4)"
   ]
  },
  {
   "cell_type": "code",
   "execution_count": null,
   "metadata": {},
   "outputs": [],
   "source": [
    "SP500 = SP500[['ticker','Date','Año','Mes','Dia','Open','High','Low','Close','Adj Close', 'Volume','Gaps','Variaciones','Volatilidad','Intradiarios']]"
   ]
  },
  {
   "cell_type": "code",
   "execution_count": 31,
   "metadata": {},
   "outputs": [],
   "source": [
    "SP500.fillna(0, inplace=True)"
   ]
  },
  {
   "cell_type": "code",
   "execution_count": null,
   "metadata": {},
   "outputs": [],
   "source": [
    "Lunes = SP500['Dia'] == 'Monday'\n",
    "dflunes = SP500[Lunes]\n",
    "dflunes.head(5)"
   ]
  },
  {
   "cell_type": "code",
   "execution_count": null,
   "metadata": {},
   "outputs": [],
   "source": [
    "dflunes['Gaps'].sum()"
   ]
  },
  {
   "cell_type": "code",
   "execution_count": null,
   "metadata": {},
   "outputs": [],
   "source": [
    "Martes = SP500['Dia'] == 'Tuesday'\n",
    "dfmartes = SP500[Martes]\n",
    "\n",
    "Miercoles = SP500['Dia'] == 'Wednesday'\n",
    "dfmiercoles = SP500[Miercoles]\n",
    "\n",
    "Jueves = SP500['Dia'] == 'Thursday'\n",
    "dfjueves = SP500[Jueves]\n",
    "\n",
    "Viernes = SP500['Dia'] == 'Friday'\n",
    "dfviernes = SP500[Viernes]\n",
    "\n",
    "print(dfmartes['Gaps'].sum(),\n",
    "dfmiercoles['Gaps'].sum(),\n",
    "dfjueves['Gaps'].sum(),\n",
    "dfviernes['Gaps'].sum())"
   ]
  },
  {
   "cell_type": "markdown",
   "metadata": {},
   "source": [
    "RESPUESTA: Lunes."
   ]
  },
  {
   "cell_type": "markdown",
   "metadata": {},
   "source": [
    "2 Cual es el mejor día para invertir teniendo en cuenta el retorno de los movimientos intradiarios?"
   ]
  },
  {
   "cell_type": "code",
   "execution_count": null,
   "metadata": {},
   "outputs": [],
   "source": [
    "print(dflunes['Intradiarios'].sum(), dfmartes['Intradiarios'].sum(),\n",
    "dfmiercoles['Intradiarios'].sum(),\n",
    "dfjueves['Intradiarios'].sum(),\n",
    "dfviernes['Intradiarios'].sum())"
   ]
  },
  {
   "cell_type": "markdown",
   "metadata": {},
   "source": [
    "RESPUESTA: Jueves."
   ]
  },
  {
   "cell_type": "markdown",
   "metadata": {},
   "source": [
    "3 Cuales son las mejores industrias que pertenecen al SP500 en las cuales se puede invertir?"
   ]
  },
  {
   "cell_type": "code",
   "execution_count": null,
   "metadata": {},
   "outputs": [],
   "source": [
    "dfSector = SP500.merge(SPWiki, how='inner', on='ticker')\n",
    "dfpbi = dfSector['GICS Sector'].to_csv('dfpbi.csv')"
   ]
  },
  {
   "cell_type": "code",
   "execution_count": null,
   "metadata": {},
   "outputs": [],
   "source": [
    "ind = dfSector['GICS Sector'] == 'Industrials'\n",
    "dfInd = dfSector[ind] \n",
    "a2021 = dfInd['Año'] == 2021\n",
    "dfInd2021 = dfInd[a2021]\n",
    "dfInd2021.head(5)\n"
   ]
  },
  {
   "cell_type": "code",
   "execution_count": null,
   "metadata": {},
   "outputs": [],
   "source": [
    "dfInd2021.sort_values('Variaciones', inplace=True, ascending=False)\n",
    "dfInd2021.head(10)"
   ]
  },
  {
   "cell_type": "code",
   "execution_count": null,
   "metadata": {},
   "outputs": [],
   "source": [
    "EFX = dfInd2021['ticker'] == 'EFX'  \n",
    "dfEFX = dfInd2021[EFX]\n",
    "\n",
    "GNRC = dfInd2021['ticker'] == 'GNRC'  \n",
    "dfGNRC = dfInd2021[GNRC]\n",
    "\n",
    "PWR = dfInd2021['ticker'] == 'PWR'  \n",
    "dfPWR = dfInd2021[PWR]\n",
    "\n",
    "AOS = dfInd2021['ticker'] == 'AOS'  \n",
    "dfAOS = dfInd2021[AOS]\n",
    "\n",
    "PCAR = dfInd2021['ticker'] == 'PCAR'  \n",
    "dfPCAR = dfInd2021[PCAR]\n",
    "\n",
    "print(dfEFX['Variaciones'].sum(),\n",
    "      dfGNRC['Variaciones'].sum(),\n",
    "      dfPWR['Variaciones'].sum(),\n",
    "      dfAOS['Variaciones'].sum(),\n",
    "      dfPCAR['Variaciones'].sum())"
   ]
  },
  {
   "cell_type": "code",
   "execution_count": null,
   "metadata": {},
   "outputs": [],
   "source": [
    "print(dfEFX['Volatilidad'].sum(),\n",
    "      dfGNRC['Volatilidad'].sum(),\n",
    "      dfPWR['Volatilidad'].sum(),\n",
    "      dfAOS['Volatilidad'].sum(),\n",
    "      dfPCAR['Volatilidad'].sum())"
   ]
  },
  {
   "cell_type": "code",
   "execution_count": null,
   "metadata": {},
   "outputs": [],
   "source": [
    "print(dfEFX['Gaps'].sum(),\n",
    "      dfGNRC['Gaps'].sum(),\n",
    "      dfPWR['Gaps'].sum(),\n",
    "      dfAOS['Gaps'].sum(),\n",
    "      dfPCAR['Gaps'].sum())"
   ]
  },
  {
   "cell_type": "markdown",
   "metadata": {},
   "source": [
    "RESPUESTA: se encuentra en power bi"
   ]
  },
  {
   "cell_type": "markdown",
   "metadata": {},
   "source": [
    "4 Cuales fueron los momentos de alta volatilidad que afectaron al SP500?"
   ]
  },
  {
   "cell_type": "code",
   "execution_count": null,
   "metadata": {},
   "outputs": [],
   "source": [
    "SP500.tail(5)"
   ]
  },
  {
   "cell_type": "code",
   "execution_count": null,
   "metadata": {},
   "outputs": [],
   "source": [
    "dfvol = SP500.to_csv('dfvol.csv',sep=';', decimal=',')"
   ]
  },
  {
   "cell_type": "markdown",
   "metadata": {},
   "source": [
    "RESPUESTA: se encuentra en power bi"
   ]
  },
  {
   "cell_type": "markdown",
   "metadata": {},
   "source": [
    "5 Cuales son las 9 mejores empresas para invertir?"
   ]
  },
  {
   "cell_type": "code",
   "execution_count": null,
   "metadata": {},
   "outputs": [],
   "source": [
    "a2021 = SP500['Año'] == 2021\n",
    "df2021 = SP500[a2021]\n",
    "df2021.sort_values('Variaciones', inplace=True, ascending=False)\n",
    "df2021.head(10)"
   ]
  },
  {
   "cell_type": "code",
   "execution_count": null,
   "metadata": {},
   "outputs": [],
   "source": [
    "#4\n",
    "#segunda mitad del 2000"
   ]
  },
  {
   "cell_type": "code",
   "execution_count": null,
   "metadata": {},
   "outputs": [],
   "source": [
    "a2021 = SP500['Año'] == 2021\n",
    "df2021 = SP500[a2021]\n",
    "df2021.sort_values('Variaciones', inplace=True, ascending=False)\n",
    "df2021.head(10)"
   ]
  },
  {
   "cell_type": "code",
   "execution_count": null,
   "metadata": {},
   "outputs": [],
   "source": [
    "BIIB = df2021['ticker'] == 'BIIB'  \n",
    "dfBIIB = df2021[BIIB]\n",
    "dfBIIB.head(5)"
   ]
  },
  {
   "cell_type": "code",
   "execution_count": null,
   "metadata": {},
   "outputs": [],
   "source": [
    "dfBIIB['Variaciones'].sum()"
   ]
  },
  {
   "cell_type": "code",
   "execution_count": null,
   "metadata": {},
   "outputs": [],
   "source": [
    "LUMN = df2021['ticker'] == 'LUMN'  \n",
    "dfLUMN = df2021[LUMN]\n",
    "\n",
    "ENPH = df2021['ticker'] == 'ENPH'  \n",
    "dfENPH = df2021[ENPH]\n",
    "\n",
    "MRNA = df2021['ticker'] == 'MRNA'  \n",
    "dfMRNA = df2021[MRNA]\n",
    "\n",
    "ANET = df2021['ticker'] == 'ANET'  \n",
    "dfANET = df2021[ANET]\n",
    "\n",
    "TSLA = df2021['ticker'] == 'TSLA'  \n",
    "dfTSLA = df2021[TSLA]\n",
    "\n",
    "HIG = df2021['ticker'] == 'HIG'  \n",
    "dfHIG = df2021[HIG]\n",
    "\n",
    "EPAM = df2021['ticker'] == 'EPAM'  \n",
    "dfEPAM = df2021[EPAM]\n",
    "\n",
    "NFLX = df2021['ticker'] == 'NFLX'  \n",
    "dfNFLX = df2021[NFLX]"
   ]
  },
  {
   "cell_type": "code",
   "execution_count": null,
   "metadata": {},
   "outputs": [],
   "source": [
    "print(dfBIIB['Variaciones'].sum(),\n",
    "      dfLUMN['Variaciones'].sum(),\n",
    "      dfENPH['Variaciones'].sum(),\n",
    "      dfMRNA['Variaciones'].sum(),\n",
    "      dfANET['Variaciones'].sum(),\n",
    "      dfTSLA['Variaciones'].sum(),\n",
    "      dfHIG['Variaciones'].sum(),\n",
    "      dfEPAM['Variaciones'].sum(),\n",
    "      dfNFLX['Variaciones'].sum())"
   ]
  },
  {
   "cell_type": "markdown",
   "metadata": {},
   "source": [
    "RESPUESTA: Se encuentra en power bi"
   ]
  }
 ],
 "metadata": {
  "kernelspec": {
   "display_name": "Python 3.10.8 64-bit (microsoft store)",
   "language": "python",
   "name": "python3"
  },
  "language_info": {
   "codemirror_mode": {
    "name": "ipython",
    "version": 3
   },
   "file_extension": ".py",
   "mimetype": "text/x-python",
   "name": "python",
   "nbconvert_exporter": "python",
   "pygments_lexer": "ipython3",
   "version": "3.10.8"
  },
  "orig_nbformat": 4,
  "vscode": {
   "interpreter": {
    "hash": "39a4a283ba33cbf7914bca7cedace0796cf5d1a50a73c1cda853b36322d337e0"
   }
  }
 },
 "nbformat": 4,
 "nbformat_minor": 2
}
